{
 "cells": [
  {
   "cell_type": "code",
   "execution_count": 2,
   "metadata": {},
   "outputs": [],
   "source": [
    "import pandas as pd"
   ]
  },
  {
   "cell_type": "code",
   "execution_count": 3,
   "metadata": {},
   "outputs": [],
   "source": [
    "data =pd.read_csv('file.csv')"
   ]
  },
  {
   "cell_type": "code",
   "execution_count": 7,
   "metadata": {},
   "outputs": [
    {
     "name": "stdout",
     "output_type": "stream",
     "text": [
      "   District_code         State_name District_name  Population    Male  Female  \\\n",
      "0              1  JAMMU AND KASHMIR       Kupwara      870354  474190  396164   \n",
      "1              2  JAMMU AND KASHMIR        Badgam      753745  398041  355704   \n",
      "2              3  JAMMU AND KASHMIR   Leh(Ladakh)      133487   78971   54516   \n",
      "3              4  JAMMU AND KASHMIR        Kargil      140802   77785   63017   \n",
      "4              5  JAMMU AND KASHMIR         Punch      476835  251899  224936   \n",
      "\n",
      "   Literate  Workers  Male_Workers  Female_Workers  ...  Christians  Sikhs  \\\n",
      "0    439654   229064        190899           38165  ...        1700   5600   \n",
      "1    335649   214866        162578           52288  ...        1489   5559   \n",
      "2     93770    75079         53265           21814  ...         658   1092   \n",
      "3     86236    51873         39839           12034  ...         604   1171   \n",
      "4    261724   161393        117677           43716  ...         958  11188   \n",
      "\n",
      "   Buddhists  Jains  Secondary_Education  Higher_Education  \\\n",
      "0         66     39                74948             39709   \n",
      "1         47      6                66459             41367   \n",
      "2      88635    103                16265              8923   \n",
      "3      20126     28                16938              9826   \n",
      "4         83     10                46062             29517   \n",
      "\n",
      "   Graduate_Education  Age_Group_0_29  Age_Group_30_49  Age_Group_50  \n",
      "0               21751          600759           178435         89679  \n",
      "1               27950          503223           160933         88978  \n",
      "2                6197           70703            41515         21019  \n",
      "3                3077           87532            35561         17488  \n",
      "4               13962          304979           109818         61334  \n",
      "\n",
      "[5 rows x 25 columns]\n"
     ]
    }
   ],
   "source": [
    "print(data.head())"
   ]
  },
  {
   "cell_type": "code",
   "execution_count": null,
   "metadata": {},
   "outputs": [],
   "source": [
    "data.style.hide()"
   ]
  },
  {
   "cell_type": "code",
   "execution_count": null,
   "metadata": {},
   "outputs": [],
   "source": [
    "data.style.highlight_max(axis=0)"
   ]
  },
  {
   "cell_type": "code",
   "execution_count": null,
   "metadata": {},
   "outputs": [],
   "source": [
    "data.style.set_caption('India Census Data')"
   ]
  },
  {
   "cell_type": "code",
   "execution_count": 24,
   "metadata": {},
   "outputs": [
    {
     "data": {
      "text/html": [
       "<div>\n",
       "<style scoped>\n",
       "    .dataframe tbody tr th:only-of-type {\n",
       "        vertical-align: middle;\n",
       "    }\n",
       "\n",
       "    .dataframe tbody tr th {\n",
       "        vertical-align: top;\n",
       "    }\n",
       "\n",
       "    .dataframe thead th {\n",
       "        text-align: right;\n",
       "    }\n",
       "</style>\n",
       "<table border=\"1\" class=\"dataframe\">\n",
       "  <thead>\n",
       "    <tr style=\"text-align: right;\">\n",
       "      <th></th>\n",
       "      <th>District_code</th>\n",
       "      <th>State_name</th>\n",
       "      <th>District_name</th>\n",
       "      <th>Population</th>\n",
       "      <th>Male</th>\n",
       "      <th>Female</th>\n",
       "      <th>Literate</th>\n",
       "      <th>Workers</th>\n",
       "      <th>Male_Workers</th>\n",
       "      <th>Female_Workers</th>\n",
       "      <th>...</th>\n",
       "      <th>Christians</th>\n",
       "      <th>Sikhs</th>\n",
       "      <th>Buddhists</th>\n",
       "      <th>Jains</th>\n",
       "      <th>Secondary_Education</th>\n",
       "      <th>Higher_Education</th>\n",
       "      <th>Graduate_Education</th>\n",
       "      <th>Age_Group_0_29</th>\n",
       "      <th>Age_Group_30_49</th>\n",
       "      <th>Age_Group_50</th>\n",
       "    </tr>\n",
       "  </thead>\n",
       "  <tbody>\n",
       "    <tr>\n",
       "      <th>377</th>\n",
       "      <td>378</td>\n",
       "      <td>ORISSA</td>\n",
       "      <td>Bhadrak</td>\n",
       "      <td>1506337</td>\n",
       "      <td>760260</td>\n",
       "      <td>746077</td>\n",
       "      <td>1094140</td>\n",
       "      <td>468599</td>\n",
       "      <td>409559</td>\n",
       "      <td>59040</td>\n",
       "      <td>...</td>\n",
       "      <td>745</td>\n",
       "      <td>169</td>\n",
       "      <td>81</td>\n",
       "      <td>111</td>\n",
       "      <td>177013</td>\n",
       "      <td>71815</td>\n",
       "      <td>67536</td>\n",
       "      <td>848660</td>\n",
       "      <td>393629</td>\n",
       "      <td>260486</td>\n",
       "    </tr>\n",
       "    <tr>\n",
       "      <th>386</th>\n",
       "      <td>387</td>\n",
       "      <td>ORISSA</td>\n",
       "      <td>Puri</td>\n",
       "      <td>1698730</td>\n",
       "      <td>865380</td>\n",
       "      <td>833350</td>\n",
       "      <td>1291939</td>\n",
       "      <td>621676</td>\n",
       "      <td>498461</td>\n",
       "      <td>123215</td>\n",
       "      <td>...</td>\n",
       "      <td>4239</td>\n",
       "      <td>193</td>\n",
       "      <td>243</td>\n",
       "      <td>94</td>\n",
       "      <td>179086</td>\n",
       "      <td>84374</td>\n",
       "      <td>87000</td>\n",
       "      <td>888134</td>\n",
       "      <td>477430</td>\n",
       "      <td>328666</td>\n",
       "    </tr>\n",
       "  </tbody>\n",
       "</table>\n",
       "<p>2 rows × 25 columns</p>\n",
       "</div>"
      ],
      "text/plain": [
       "     District_code State_name District_name  Population    Male  Female  \\\n",
       "377            378     ORISSA       Bhadrak     1506337  760260  746077   \n",
       "386            387     ORISSA          Puri     1698730  865380  833350   \n",
       "\n",
       "     Literate  Workers  Male_Workers  Female_Workers  ...  Christians  Sikhs  \\\n",
       "377   1094140   468599        409559           59040  ...         745    169   \n",
       "386   1291939   621676        498461          123215  ...        4239    193   \n",
       "\n",
       "     Buddhists  Jains  Secondary_Education  Higher_Education  \\\n",
       "377         81    111               177013             71815   \n",
       "386        243     94               179086             84374   \n",
       "\n",
       "     Graduate_Education  Age_Group_0_29  Age_Group_30_49  Age_Group_50  \n",
       "377               67536          848660           393629        260486  \n",
       "386               87000          888134           477430        328666  \n",
       "\n",
       "[2 rows x 25 columns]"
      ]
     },
     "execution_count": 24,
     "metadata": {},
     "output_type": "execute_result"
    }
   ],
   "source": [
    "data[data['District_name'].isin(['Bhadrak','Puri'])]"
   ]
  },
  {
   "cell_type": "code",
   "execution_count": 33,
   "metadata": {},
   "outputs": [
    {
     "data": {
      "text/html": [
       "<div>\n",
       "<style scoped>\n",
       "    .dataframe tbody tr th:only-of-type {\n",
       "        vertical-align: middle;\n",
       "    }\n",
       "\n",
       "    .dataframe tbody tr th {\n",
       "        vertical-align: top;\n",
       "    }\n",
       "\n",
       "    .dataframe thead th {\n",
       "        text-align: right;\n",
       "    }\n",
       "</style>\n",
       "<table border=\"1\" class=\"dataframe\">\n",
       "  <thead>\n",
       "    <tr style=\"text-align: right;\">\n",
       "      <th></th>\n",
       "      <th>District_code</th>\n",
       "      <th>State_name</th>\n",
       "      <th>District_name</th>\n",
       "      <th>Population</th>\n",
       "      <th>Male</th>\n",
       "      <th>Female</th>\n",
       "      <th>Literate</th>\n",
       "      <th>Workers</th>\n",
       "      <th>Male_Workers</th>\n",
       "      <th>Female_Workers</th>\n",
       "      <th>...</th>\n",
       "      <th>Sikhs</th>\n",
       "      <th>Buddhists</th>\n",
       "      <th>Jains</th>\n",
       "      <th>Secondary_Education</th>\n",
       "      <th>Higher_Education</th>\n",
       "      <th>Graduate_Education</th>\n",
       "      <th>Age_Group_0_29</th>\n",
       "      <th>Age_Group_30_49</th>\n",
       "      <th>Age_Group_50</th>\n",
       "      <th>Indexes</th>\n",
       "    </tr>\n",
       "  </thead>\n",
       "  <tbody>\n",
       "  </tbody>\n",
       "</table>\n",
       "<p>0 rows × 26 columns</p>\n",
       "</div>"
      ],
      "text/plain": [
       "Empty DataFrame\n",
       "Columns: [District_code, State_name, District_name, Population, Male, Female, Literate, Workers, Male_Workers, Female_Workers, Cultivator_Workers, Agricultural_Workers, Household_Workers, Hindus, Muslims, Christians, Sikhs, Buddhists, Jains, Secondary_Education, Higher_Education, Graduate_Education, Age_Group_0_29, Age_Group_30_49, Age_Group_50, Indexes]\n",
       "Index: []\n",
       "\n",
       "[0 rows x 26 columns]"
      ]
     },
     "execution_count": 33,
     "metadata": {},
     "output_type": "execute_result"
    }
   ],
   "source": [
    "data[data['State_name'].str.contains('ODISHA') ]"
   ]
  },
  {
   "cell_type": "code",
   "execution_count": 5,
   "metadata": {},
   "outputs": [],
   "source": [
    "data = data.replace('ORISSA','ODISHA')"
   ]
  },
  {
   "cell_type": "code",
   "execution_count": null,
   "metadata": {},
   "outputs": [],
   "source": [
    "data[data['State_name'].str.contains('ODISHA') ]"
   ]
  }
 ],
 "metadata": {
  "kernelspec": {
   "display_name": "Python 3",
   "language": "python",
   "name": "python3"
  },
  "language_info": {
   "codemirror_mode": {
    "name": "ipython",
    "version": 3
   },
   "file_extension": ".py",
   "mimetype": "text/x-python",
   "name": "python",
   "nbconvert_exporter": "python",
   "pygments_lexer": "ipython3",
   "version": "3.10.1"
  },
  "orig_nbformat": 4
 },
 "nbformat": 4,
 "nbformat_minor": 2
}
