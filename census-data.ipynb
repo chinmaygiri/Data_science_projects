{
 "cells": [
  {
   "cell_type": "code",
   "execution_count": 3,
   "metadata": {},
   "outputs": [],
   "source": [
    "import pandas as pd"
   ]
  },
  {
   "cell_type": "code",
   "execution_count": 4,
   "metadata": {},
   "outputs": [],
   "source": [
    "data =pd.read_csv('file.csv')"
   ]
  },
  {
   "cell_type": "code",
   "execution_count": 7,
   "metadata": {},
   "outputs": [
    {
     "name": "stdout",
     "output_type": "stream",
     "text": [
      "   District_code         State_name District_name  Population    Male  Female  \\\n",
      "0              1  JAMMU AND KASHMIR       Kupwara      870354  474190  396164   \n",
      "1              2  JAMMU AND KASHMIR        Badgam      753745  398041  355704   \n",
      "2              3  JAMMU AND KASHMIR   Leh(Ladakh)      133487   78971   54516   \n",
      "3              4  JAMMU AND KASHMIR        Kargil      140802   77785   63017   \n",
      "4              5  JAMMU AND KASHMIR         Punch      476835  251899  224936   \n",
      "\n",
      "   Literate  Workers  Male_Workers  Female_Workers  ...  Christians  Sikhs  \\\n",
      "0    439654   229064        190899           38165  ...        1700   5600   \n",
      "1    335649   214866        162578           52288  ...        1489   5559   \n",
      "2     93770    75079         53265           21814  ...         658   1092   \n",
      "3     86236    51873         39839           12034  ...         604   1171   \n",
      "4    261724   161393        117677           43716  ...         958  11188   \n",
      "\n",
      "   Buddhists  Jains  Secondary_Education  Higher_Education  \\\n",
      "0         66     39                74948             39709   \n",
      "1         47      6                66459             41367   \n",
      "2      88635    103                16265              8923   \n",
      "3      20126     28                16938              9826   \n",
      "4         83     10                46062             29517   \n",
      "\n",
      "   Graduate_Education  Age_Group_0_29  Age_Group_30_49  Age_Group_50  \n",
      "0               21751          600759           178435         89679  \n",
      "1               27950          503223           160933         88978  \n",
      "2                6197           70703            41515         21019  \n",
      "3                3077           87532            35561         17488  \n",
      "4               13962          304979           109818         61334  \n",
      "\n",
      "[5 rows x 25 columns]\n"
     ]
    }
   ],
   "source": [
    "print(data.head())"
   ]
  }
 ],
 "metadata": {
  "kernelspec": {
   "display_name": "Python 3",
   "language": "python",
   "name": "python3"
  },
  "language_info": {
   "codemirror_mode": {
    "name": "ipython",
    "version": 3
   },
   "file_extension": ".py",
   "mimetype": "text/x-python",
   "name": "python",
   "nbconvert_exporter": "python",
   "pygments_lexer": "ipython3",
   "version": "3.10.1"
  },
  "orig_nbformat": 4
 },
 "nbformat": 4,
 "nbformat_minor": 2
}
